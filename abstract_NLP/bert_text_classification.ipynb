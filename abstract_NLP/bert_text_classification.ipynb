{
 "cells": [
  {
   "cell_type": "markdown",
   "metadata": {},
   "source": [
    "# Goal"
   ]
  },
  {
   "cell_type": "markdown",
   "metadata": {},
   "source": [
    "Predict inclusion and exclusion of abstracts for Ceres2030 Team 6.\n",
    "\n",
    "This document compares three natural language processing (NLP) approaches to binary classification:\n",
    "- BERT\n",
    "- Naive Bayes\n",
    "- Support Vector Machines (SVM)\n",
    "\n",
    "We find each method is better than our team's present inter-rater reliability of 80%. Inter-rater reliability is a measure of the percent of conflicts reviewers had compared total abstracts double reviewed.\n",
    "\n",
    "Here is a summary of our findings."
   ]
  },
  {
   "cell_type": "code",
   "execution_count": 1,
   "metadata": {},
   "outputs": [
    {
     "data": {
      "image/png": "[encoded data removed]",
      "text/plain": [
       "<IPython.core.display.Image object>"
      ]
     },
     "execution_count": 1,
     "metadata": {
      "image/png": {
       "width": 400
      }
     },
     "output_type": "execute_result"
    }
   ],
   "source": [
    "from IPython.display import Image\n",
    "Image(filename='compare_model.png', width=400)"
   ]
  },
  {
   "cell_type": "markdown",
   "metadata": {},
   "source": [
    "# Load data"
   ]
  },
  {
   "cell_type": "code",
   "execution_count": 2,
   "metadata": {},
   "outputs": [
    {
     "name": "stderr",
     "output_type": "stream",
     "text": [
      "WARNING: Logging before flag parsing goes to stderr.\n",
      "W1013 16:23:21.525433 140147688564544 __init__.py:56] Some hub symbols are not available because TensorFlow version is less than 1.14\n"
     ]
    }
   ],
   "source": [
    "import pandas as pd\n",
    "import numpy as np\n",
    "from sklearn.model_selection import train_test_split\n",
    "import tensorflow as tf\n",
    "import tensorflow_hub as hub\n",
    "from datetime import datetime\n",
    "from bert_text import run_on_dfs\n",
    "import warnings\n",
    "import tensorflow as tf\n",
    "import bert\n",
    "from bert import run_classifier\n",
    "from bert import optimization\n",
    "from bert import tokenization\n",
    "# !pip install bert-tensorflow\n",
    "tf.logging.set_verbosity(tf.logging.FATAL)"
   ]
  },
  {
   "cell_type": "code",
   "execution_count": 3,
   "metadata": {},
   "outputs": [],
   "source": [
    "all_data = pd.read_csv('./data/Team_6.csv')\n",
    "selected = pd.read_csv('./data/review_59500_select_csv_20190925102202.csv')\n",
    "irrelevant = pd.read_csv('./data/review_59500_irrelevant_csv_20190925102123.csv')"
   ]
  },
  {
   "cell_type": "markdown",
   "metadata": {},
   "source": [
    "## Clean up train/test dataframes"
   ]
  },
  {
   "cell_type": "code",
   "execution_count": 4,
   "metadata": {},
   "outputs": [
    {
     "data": {
      "text/html": [
       "<div>\n",
       "<style scoped>\n",
       "    .dataframe tbody tr th:only-of-type {\n",
       "        vertical-align: middle;\n",
       "    }\n",
       "\n",
       "    .dataframe tbody tr th {\n",
       "        vertical-align: top;\n",
       "    }\n",
       "\n",
       "    .dataframe thead th {\n",
       "        text-align: right;\n",
       "    }\n",
       "</style>\n",
       "<table border=\"1\" class=\"dataframe\">\n",
       "  <thead>\n",
       "    <tr style=\"text-align: right;\">\n",
       "      <th></th>\n",
       "      <th>sentiment</th>\n",
       "    </tr>\n",
       "  </thead>\n",
       "  <tbody>\n",
       "    <tr>\n",
       "      <th>count</th>\n",
       "      <td>1500.000000</td>\n",
       "    </tr>\n",
       "    <tr>\n",
       "      <th>mean</th>\n",
       "      <td>0.150000</td>\n",
       "    </tr>\n",
       "    <tr>\n",
       "      <th>std</th>\n",
       "      <td>0.357191</td>\n",
       "    </tr>\n",
       "    <tr>\n",
       "      <th>min</th>\n",
       "      <td>0.000000</td>\n",
       "    </tr>\n",
       "    <tr>\n",
       "      <th>25%</th>\n",
       "      <td>0.000000</td>\n",
       "    </tr>\n",
       "    <tr>\n",
       "      <th>50%</th>\n",
       "      <td>0.000000</td>\n",
       "    </tr>\n",
       "    <tr>\n",
       "      <th>75%</th>\n",
       "      <td>0.000000</td>\n",
       "    </tr>\n",
       "    <tr>\n",
       "      <th>max</th>\n",
       "      <td>1.000000</td>\n",
       "    </tr>\n",
       "  </tbody>\n",
       "</table>\n",
       "</div>"
      ],
      "text/plain": [
       "         sentiment\n",
       "count  1500.000000\n",
       "mean      0.150000\n",
       "std       0.357191\n",
       "min       0.000000\n",
       "25%       0.000000\n",
       "50%       0.000000\n",
       "75%       0.000000\n",
       "max       1.000000"
      ]
     },
     "execution_count": 4,
     "metadata": {},
     "output_type": "execute_result"
    }
   ],
   "source": [
    "# selected['text'] = selected['Title'] + ' ' + selected['Abstract']\n",
    "selected['text'] = selected['Abstract'].str.replace('Abstract: ', '')\n",
    "selected['text'] = selected['text'].str.split('#',  n = 1, expand = True)\n",
    "selected['sentiment'] = 1\n",
    "\n",
    "# irrelevant['text'] = irrelevant['Title'] + ' ' + irrelevant['Abstract']\n",
    "irrelevant['text'] = irrelevant['Abstract'].str.replace('Abstract: ', '')\n",
    "irrelevant['text'] = irrelevant['text'].str.split('#',  n = 1, expand = True)\n",
    "irrelevant['sentiment'] = 0\n",
    "\n",
    "df = pd.concat([\n",
    "    selected.loc[:, ['text', 'sentiment']],\n",
    "    irrelevant.loc[:, ['text', 'sentiment']],\n",
    "])\n",
    "\n",
    "df.describe()"
   ]
  },
  {
   "cell_type": "markdown",
   "metadata": {},
   "source": [
    "## Split into training and testing datasets."
   ]
  },
  {
   "cell_type": "code",
   "execution_count": 5,
   "metadata": {},
   "outputs": [
    {
     "data": {
      "text/html": [
       "<div>\n",
       "<style scoped>\n",
       "    .dataframe tbody tr th:only-of-type {\n",
       "        vertical-align: middle;\n",
       "    }\n",
       "\n",
       "    .dataframe tbody tr th {\n",
       "        vertical-align: top;\n",
       "    }\n",
       "\n",
       "    .dataframe thead th {\n",
       "        text-align: right;\n",
       "    }\n",
       "</style>\n",
       "<table border=\"1\" class=\"dataframe\">\n",
       "  <thead>\n",
       "    <tr style=\"text-align: right;\">\n",
       "      <th></th>\n",
       "      <th>train</th>\n",
       "      <th>test</th>\n",
       "    </tr>\n",
       "  </thead>\n",
       "  <tbody>\n",
       "    <tr>\n",
       "      <th>count</th>\n",
       "      <td>1125.000000</td>\n",
       "      <td>375.000000</td>\n",
       "    </tr>\n",
       "    <tr>\n",
       "      <th>mean</th>\n",
       "      <td>0.152000</td>\n",
       "      <td>0.144000</td>\n",
       "    </tr>\n",
       "    <tr>\n",
       "      <th>std</th>\n",
       "      <td>0.359181</td>\n",
       "      <td>0.351559</td>\n",
       "    </tr>\n",
       "    <tr>\n",
       "      <th>min</th>\n",
       "      <td>0.000000</td>\n",
       "      <td>0.000000</td>\n",
       "    </tr>\n",
       "    <tr>\n",
       "      <th>25%</th>\n",
       "      <td>0.000000</td>\n",
       "      <td>0.000000</td>\n",
       "    </tr>\n",
       "    <tr>\n",
       "      <th>50%</th>\n",
       "      <td>0.000000</td>\n",
       "      <td>0.000000</td>\n",
       "    </tr>\n",
       "    <tr>\n",
       "      <th>75%</th>\n",
       "      <td>0.000000</td>\n",
       "      <td>0.000000</td>\n",
       "    </tr>\n",
       "    <tr>\n",
       "      <th>max</th>\n",
       "      <td>1.000000</td>\n",
       "      <td>1.000000</td>\n",
       "    </tr>\n",
       "  </tbody>\n",
       "</table>\n",
       "</div>"
      ],
      "text/plain": [
       "             train        test\n",
       "count  1125.000000  375.000000\n",
       "mean      0.152000    0.144000\n",
       "std       0.359181    0.351559\n",
       "min       0.000000    0.000000\n",
       "25%       0.000000    0.000000\n",
       "50%       0.000000    0.000000\n",
       "75%       0.000000    0.000000\n",
       "max       1.000000    1.000000"
      ]
     },
     "execution_count": 5,
     "metadata": {},
     "output_type": "execute_result"
    }
   ],
   "source": [
    "train, test = train_test_split(df)\n",
    "train = train.sample(len(train))\n",
    "t = pd.concat([train.describe(), test.describe()], axis = 1)\n",
    "t.columns = ['train', 'test']\n",
    "t"
   ]
  },
  {
   "cell_type": "markdown",
   "metadata": {},
   "source": [
    "## Clean up predict dataframe"
   ]
  },
  {
   "cell_type": "code",
   "execution_count": 6,
   "metadata": {},
   "outputs": [
    {
     "name": "stderr",
     "output_type": "stream",
     "text": [
      "/home/vinny_ricciardi/virtenvs/ceres_36/lib/python3.6/site-packages/ipykernel_launcher.py:9: SettingWithCopyWarning: \n",
      "A value is trying to be set on a copy of a slice from a DataFrame.\n",
      "Try using .loc[row_indexer,col_indexer] = value instead\n",
      "\n",
      "See the caveats in the documentation: http://pandas.pydata.org/pandas-docs/stable/indexing.html#indexing-view-versus-copy\n",
      "  if __name__ == '__main__':\n"
     ]
    }
   ],
   "source": [
    "all_data['check'] = all_data['title'].isin(irrelevant['Title']) | \\\n",
    "                    all_data['title'].isin(selected['Title'])\n",
    "\n",
    "to_predict = all_data.query('check == False')\n",
    "\n",
    "# if abstract is blank, replace with title\n",
    "to_predict['abstracts_new'] = np.where(to_predict['abstract'].isna(), \n",
    "                                       to_predict['title'], \n",
    "                                       to_predict['abstract'])"
   ]
  },
  {
   "cell_type": "markdown",
   "metadata": {},
   "source": [
    "# BERT"
   ]
  },
  {
   "cell_type": "markdown",
   "metadata": {},
   "source": [
    "## A high-level approach"
   ]
  },
  {
   "cell_type": "markdown",
   "metadata": {
    "colab_type": "text",
    "id": "zwYoyLfLQI-t"
   },
   "source": [
    "Base code heavily borrowed from [this Google Colab Notebook](https://colab.research.google.com/github/google-research/bert/blob/master/predicting_movie_reviews_with_bert_on_tf_hub.ipynb).\n",
    "\n",
    "Please refer to [this Medium Article](https://medium.com/@wshuyi/how-to-do-text-binary-classification-with-bert-f1348a25d905) for detailed information.\n",
    "\n"
   ]
  },
  {
   "cell_type": "code",
   "execution_count": 7,
   "metadata": {
    "colab": {},
    "colab_type": "code",
    "id": "qCoK42AGIXsS"
   },
   "outputs": [],
   "source": [
    "myparam = {\n",
    "    'DATA_COLUMN': 'text',\n",
    "    'LABEL_COLUMN': 'sentiment',\n",
    "    'LEARNING_RATE': 2e-5,\n",
    "    'MAX_SEQ_LENGTH': 512,\n",
    "    'NUM_TRAIN_EPOCHS': 10,\n",
    "    'bert_model_hub': 'https://tfhub.dev/google/bert_uncased_L-12_H-768_A-12/1'\n",
    "}"
   ]
  },
  {
   "cell_type": "code",
   "execution_count": 8,
   "metadata": {
    "colab": {},
    "colab_type": "code",
    "id": "YoOVNBr7IsjS",
    "scrolled": true
   },
   "outputs": [
    {
     "name": "stdout",
     "output_type": "stream",
     "text": [
      "\n",
      "WARNING: The TensorFlow contrib module will not be included in TensorFlow 2.0.\n",
      "For more information, please see:\n",
      "  * https://github.com/tensorflow/community/blob/master/rfcs/20180907-contrib-sunset.md\n",
      "  * https://github.com/tensorflow/addons\n",
      "If you depend on functionality not listed there, please file an issue.\n",
      "\n"
     ]
    }
   ],
   "source": [
    "warnings.filterwarnings('ignore')\n",
    "result, estimator = run_on_dfs(train, test, **myparam)"
   ]
  },
  {
   "cell_type": "code",
   "execution_count": 9,
   "metadata": {
    "colab": {},
    "colab_type": "code",
    "id": "kaZMjQ0cIw9y",
    "scrolled": true
   },
   "outputs": [
    {
     "data": {
      "text/plain": [
       "{'auc': 0.9027345,\n",
       " 'eval_accuracy': 0.96533334,\n",
       " 'f1_score': 0.87128705,\n",
       " 'false_negatives': 10.0,\n",
       " 'false_positives': 3.0,\n",
       " 'loss': 0.18589474,\n",
       " 'precision': 0.9361702,\n",
       " 'recall': 0.8148148,\n",
       " 'true_negatives': 318.0,\n",
       " 'true_positives': 44.0,\n",
       " 'global_step': 351}"
      ]
     },
     "execution_count": 9,
     "metadata": {},
     "output_type": "execute_result"
    }
   ],
   "source": [
    "bert_1 = result\n",
    "bert_1"
   ]
  },
  {
   "cell_type": "markdown",
   "metadata": {},
   "source": [
    "### Predictions"
   ]
  },
  {
   "cell_type": "code",
   "execution_count": 160,
   "metadata": {},
   "outputs": [],
   "source": [
    "def getPrediction(in_sentences):\n",
    "\n",
    "    labels = ['Exclude', 'Include']\n",
    "    \n",
    "    input_examples = [run_classifier.InputExample(\n",
    "      guid='', text_a = x, text_b = None, label = 0) for x in in_sentences] # here, \"\" is just a dummy label\n",
    "    \n",
    "    input_features = run_classifier.convert_examples_to_features(\n",
    "      input_examples, label_list, MAX_SEQ_LENGTH, tokenizer)\n",
    "    \n",
    "    predict_input_fn = run_classifier.input_fn_builder(\n",
    "      features=input_features, seq_length=MAX_SEQ_LENGTH, is_training=False, drop_remainder=False)\n",
    "    \n",
    "    predictions = estimator.predict(predict_input_fn)\n",
    "    \n",
    "    out = [(sentence, prediction['probabilities'], labels[prediction['labels']]) for sentence, prediction in zip(in_sentences, predictions)]\n",
    "#     out = []\n",
    "#     sent = []\n",
    "#     i = 0\n",
    "#     for sentence, prediction in zip(in_sentences, predictions):\n",
    "#         out.append(prediction)    \n",
    "#         sent.append(sentence)\n",
    "    \n",
    "    return(out)"
   ]
  },
  {
   "cell_type": "code",
   "execution_count": 155,
   "metadata": {},
   "outputs": [],
   "source": [
    "# label_list is the list of labels, i.e. True, False or 0, 1 or 'dog', 'cat'\n",
    "label_list = [0, 1]\n",
    "MAX_SEQ_LENGTH = myparam['MAX_SEQ_LENGTH']\n",
    "\n",
    "# This is a path to an uncased (all lowercase) version of BERT\n",
    "BERT_MODEL_HUB = \"https://tfhub.dev/google/bert_uncased_L-12_H-768_A-12/1\"\n",
    "\n",
    "def create_tokenizer_from_hub_module():\n",
    "  \"\"\"Get the vocab file and casing info from the Hub module.\"\"\"\n",
    "  with tf.Graph().as_default():\n",
    "    bert_module = hub.Module(BERT_MODEL_HUB)\n",
    "    tokenization_info = bert_module(signature=\"tokenization_info\", as_dict=True)\n",
    "    with tf.Session() as sess:\n",
    "      vocab_file, do_lower_case = sess.run([tokenization_info[\"vocab_file\"],\n",
    "                                            tokenization_info[\"do_lower_case\"]])\n",
    "      \n",
    "  return bert.tokenization.FullTokenizer(\n",
    "      vocab_file=vocab_file, do_lower_case=do_lower_case)\n",
    "\n",
    "tokenizer = create_tokenizer_from_hub_module()"
   ]
  },
  {
   "cell_type": "code",
   "execution_count": 161,
   "metadata": {},
   "outputs": [],
   "source": [
    "predictions = getPrediction(test.text)"
   ]
  },
  {
   "cell_type": "markdown",
   "metadata": {},
   "source": [
    "Sanity check that our predictions are working properly. Our self-computed evaluation accuracy is the same at `bet_text`'s evaluation accuracy."
   ]
  },
  {
   "cell_type": "code",
   "execution_count": 162,
   "metadata": {},
   "outputs": [
    {
     "data": {
      "text/plain": [
       "0.9653333333333334"
      ]
     },
     "execution_count": 162,
     "metadata": {},
     "output_type": "execute_result"
    }
   ],
   "source": [
    "tmp = test\n",
    "tmp['predictions'] = [predictions[i][2] for i in range(len(predictions))]\n",
    "tmp['predictions'] = np.where(tmp['predictions'] == 'Include', 1, 0)\n",
    "tmp['check'] = np.where(tmp['predictions'] == tmp['sentiment'], 1, 0)\n",
    "tmp['check'].sum() / len(tmp)"
   ]
  },
  {
   "cell_type": "markdown",
   "metadata": {},
   "source": [
    "Predict the remaining abstracts."
   ]
  },
  {
   "cell_type": "code",
   "execution_count": null,
   "metadata": {},
   "outputs": [],
   "source": [
    "# # to_predict = to_predict.reset_index()\n",
    "# in_sentences = to_predict['abstracts_new'][:17000]\n",
    "\n",
    "# labels = ['Exclude', 'Include']\n",
    "\n",
    "# input_examples = [run_classifier.InputExample(\n",
    "#     guid='', \n",
    "#     text_a=x, \n",
    "#     text_b=None, \n",
    "#     label=0) for x in in_sentences] # here, \"\" is just a dummy label\n",
    "\n",
    "# input_features = run_classifier.convert_examples_to_features(\n",
    "#     input_examples, \n",
    "#     label_list, \n",
    "#     MAX_SEQ_LENGTH, \n",
    "#     tokenizer)\n",
    "\n",
    "# predict_input_fn = run_classifier.input_fn_builder(\n",
    "#     features=input_features, \n",
    "#     seq_length=MAX_SEQ_LENGTH, \n",
    "#     is_training=False, \n",
    "#     drop_remainder=False)\n",
    "\n",
    "# predictions = estimator.predict(predict_input_fn)\n",
    "\n",
    "# #     out = [(sentence, prediction['probabilities'], labels[prediction['labels']]) for sentence, prediction in zip(in_sentences, predictions)]\n",
    "# out = []\n",
    "# sent = []\n",
    "# i = 0\n",
    "# for sentence, prediction in zip(in_sentences, predictions):\n",
    "#     out.append(prediction)    \n",
    "#     sent.append(sentence)\n",
    "#     print(i)\n",
    "#     i += 1"
   ]
  },
  {
   "cell_type": "code",
   "execution_count": 198,
   "metadata": {},
   "outputs": [],
   "source": [
    "# Run in two batches since there was a index issue with both together (think it was a memory issue)\n",
    "out1 = getPrediction(to_predict['abstracts_new'][:17000])\n",
    "print('clear1')\n",
    "out2 = getPrediction(to_predict['abstracts_new'][17000:])\n",
    "print('clear2')\n",
    "o1 = [out1[i][2] for i in range(len(out1))]\n",
    "print('clear3')\n",
    "o2 = [out2[i][2] for i in range(len(out2))]\n",
    "print('clear4')\n",
    "# np.sum(o1) + np.sum(o2) + test['sentiment'].sum() + train['sentiment'].sum()"
   ]
  },
  {
   "cell_type": "code",
   "execution_count": 298,
   "metadata": {},
   "outputs": [
    {
     "data": {
      "text/plain": [
       "1575"
      ]
     },
     "execution_count": 298,
     "metadata": {},
     "output_type": "execute_result"
    }
   ],
   "source": [
    "np.unique(o1, return_counts=True)[1][1] + \\\n",
    "np.unique(o2, return_counts=True)[1][1] + \\\n",
    "test['sentiment'].sum() + \\\n",
    "train['sentiment'].sum()"
   ]
  },
  {
   "cell_type": "markdown",
   "metadata": {},
   "source": [
    "## Save data to keep"
   ]
  },
  {
   "cell_type": "code",
   "execution_count": 272,
   "metadata": {},
   "outputs": [
    {
     "data": {
      "text/plain": [
       "1568"
      ]
     },
     "execution_count": 272,
     "metadata": {},
     "output_type": "execute_result"
    }
   ],
   "source": [
    "to_predict['sentiment'] = o1 + o2\n",
    "out1 = to_predict.copy()\n",
    "out1 = out1.query(\"sentiment == 'Include'\")\n",
    "out1 = out1.loc[:, ['title', 'year', 'journal', 'author']]\n",
    "out1 = out1.loc[:, ['title', 'year', 'journal', 'author']]\n",
    "out2 = selected.copy()\n",
    "out2 = out2.loc[:, ['Title', 'Published Year', 'Journal', 'Authors']]\n",
    "out2.columns = out1.columns\n",
    "out = pd.concat([out1, out2], axis = 0)\n",
    "out = out.drop_duplicates()  # Note, there were 5 duplicates in the predict set and 2 in the training set. There was no leakage.\n",
    "len(out)"
   ]
  },
  {
   "cell_type": "code",
   "execution_count": 294,
   "metadata": {},
   "outputs": [],
   "source": [
    "tmp1 = pd.merge(all_data, out, on=['title', 'year'], how='inner')\n",
    "tmp1 = tmp1.drop_duplicates(['title', 'year'])\n",
    "tmp2 = pd.merge(out, tmp1, on=['title', 'year'], how='outer', indicator=True)\n",
    "tmp3 = tmp2[tmp2['_merge']=='left_only']\n",
    "tmp2.to_csv('predicted_out.csv')"
   ]
  },
  {
   "cell_type": "markdown",
   "metadata": {},
   "source": [
    "## A more detailed approach"
   ]
  },
  {
   "cell_type": "markdown",
   "metadata": {},
   "source": [
    "The following is essentially what the above was written on top of (the authors of bert_text wrote their package more streamlined than below, but we include here to let readers better understand how the underlying processes work). \n",
    "\n",
    "Base code for this section heavily borrowed/copied from [this Google Colab Notebook](https://colab.research.google.com/github/google-research/bert/blob/master/predicting_movie_reviews_with_bert_on_tf_hub.ipynb#scrollTo=fom_ff20gyy6).\n",
    "\n",
    "Note: this section's code is commented out since it is nearly the same as above."
   ]
  },
  {
   "cell_type": "markdown",
   "metadata": {},
   "source": [
    "### Data Preprocessing\n",
    "We'll need to transform our data into a format BERT understands. This involves two steps. First, we create  `InputExample`'s using the constructor provided in the BERT library.\n",
    "\n",
    "- `text_a` is the text we want to classify, which in this case, is the `Request` field in our Dataframe. \n",
    "- `text_b` is used if we're training a model to understand the relationship between sentences (i.e. is `text_b` a translation of `text_a`? Is `text_b` an answer to the question asked by `text_a`?). This doesn't apply to our task, so we can leave `text_b` blank.\n",
    "- `label` is the label for our example, i.e. True, False"
   ]
  },
  {
   "cell_type": "code",
   "execution_count": null,
   "metadata": {},
   "outputs": [],
   "source": [
    "# DATA_COLUMN = 'text'\n",
    "# LABEL_COLUMN = 'sentiment'\n",
    "# # label_list is the list of labels, i.e. True, False or 0, 1 or 'dog', 'cat'\n",
    "# label_list = [0, 1]"
   ]
  },
  {
   "cell_type": "code",
   "execution_count": null,
   "metadata": {},
   "outputs": [],
   "source": [
    "# # Use the InputExample class from BERT's run_classifier code to create examples from the data\n",
    "# train_InputExamples = train.apply(lambda x: bert.run_classifier.InputExample(\n",
    "#     guid=None, # Globally unique ID for bookkeeping, unused in this example\n",
    "#     text_a = x[DATA_COLUMN], \n",
    "#     text_b = None, \n",
    "#     label = x[LABEL_COLUMN]), axis = 1)\n",
    "\n",
    "# test_InputExamples = test.apply(lambda x: bert.run_classifier.InputExample(\n",
    "#     guid=None, \n",
    "#     text_a = x[DATA_COLUMN], \n",
    "#     text_b = None, \n",
    "#     label = x[LABEL_COLUMN]), axis = 1)"
   ]
  },
  {
   "cell_type": "markdown",
   "metadata": {},
   "source": [
    "Next, we need to preprocess our data so that it matches the data BERT was trained on. For this, we'll need to do a couple of things (but don't worry--this is also included in the Python library):\n",
    "\n",
    "\n",
    "1. Lowercase our text (if we're using a BERT lowercase model)\n",
    "2. Tokenize it (i.e. \"sally says hi\" -> [\"sally\", \"says\", \"hi\"])\n",
    "3. Break words into WordPieces (i.e. \"calling\" -> [\"call\", \"##ing\"])\n",
    "4. Map our words to indexes using a vocab file that BERT provides\n",
    "5. Add special \"CLS\" and \"SEP\" tokens (see the [readme](https://github.com/google-research/bert))\n",
    "6. Append \"index\" and \"segment\" tokens to each input (see the [BERT paper](https://arxiv.org/pdf/1810.04805.pdf))"
   ]
  },
  {
   "cell_type": "markdown",
   "metadata": {},
   "source": [
    "To start, we'll need to load a vocabulary file and lowercasing information directly from the BERT tf hub module:"
   ]
  },
  {
   "cell_type": "code",
   "execution_count": null,
   "metadata": {},
   "outputs": [],
   "source": [
    "# # This is a path to an uncased (all lowercase) version of BERT\n",
    "# BERT_MODEL_HUB = \"https://tfhub.dev/google/bert_uncased_L-12_H-768_A-12/1\"\n",
    "\n",
    "# def create_tokenizer_from_hub_module():\n",
    "#   \"\"\"Get the vocab file and casing info from the Hub module.\"\"\"\n",
    "#   with tf.Graph().as_default():\n",
    "#     bert_module = hub.Module(BERT_MODEL_HUB)\n",
    "#     tokenization_info = bert_module(signature=\"tokenization_info\", as_dict=True)\n",
    "#     with tf.Session() as sess:\n",
    "#       vocab_file, do_lower_case = sess.run([tokenization_info[\"vocab_file\"],\n",
    "#                                             tokenization_info[\"do_lower_case\"]])\n",
    "      \n",
    "#   return bert.tokenization.FullTokenizer(\n",
    "#       vocab_file=vocab_file, do_lower_case=do_lower_case)\n",
    "\n",
    "# tokenizer = create_tokenizer_from_hub_module()"
   ]
  },
  {
   "cell_type": "markdown",
   "metadata": {},
   "source": [
    "We just learned that the BERT model we're using expects lowercase data (that's what stored in tokenization_info[\"do_lower_case\"]) and we also loaded BERT's vocab file. We also created a tokenizer, which breaks words into word pieces:"
   ]
  },
  {
   "cell_type": "code",
   "execution_count": null,
   "metadata": {},
   "outputs": [],
   "source": [
    "# tokenizer.tokenize(\"This here's an example of using the BERT tokenizer\")"
   ]
  },
  {
   "cell_type": "markdown",
   "metadata": {},
   "source": [
    "Using our tokenizer, we'll call `run_classifier.convert_examples_to_features` on our InputExamples to convert them into features BERT understands."
   ]
  },
  {
   "cell_type": "code",
   "execution_count": null,
   "metadata": {},
   "outputs": [],
   "source": [
    "# # We'll set sequences to be at most 512 tokens long.\n",
    "# MAX_SEQ_LENGTH = 512\n",
    "\n",
    "# # Convert our train and test features to InputFeatures that BERT understands.\n",
    "# train_features = bert.run_classifier.convert_examples_to_features(\n",
    "#     train_InputExamples, label_list, MAX_SEQ_LENGTH, tokenizer)\n",
    "\n",
    "# test_features = bert.run_classifier.convert_examples_to_features(\n",
    "#     test_InputExamples, label_list, MAX_SEQ_LENGTH, tokenizer)"
   ]
  },
  {
   "cell_type": "markdown",
   "metadata": {},
   "source": [
    "### Creating a model\n",
    "\n",
    "Now that we've prepared our data, let's focus on building a model. `create_model` does just this below. First, it loads the BERT tf hub module again (this time to extract the computation graph). Next, it creates a single new layer that will be trained to adapt BERT to our sentiment task (i.e. classifying whether an abstract is included or exclude). This strategy of using a mostly trained model is called [fine-tuning](http://wiki.fast.ai/index.php/Fine_tuning)."
   ]
  },
  {
   "cell_type": "code",
   "execution_count": null,
   "metadata": {},
   "outputs": [],
   "source": [
    "# def create_model(is_predicting, input_ids, input_mask, segment_ids, labels,\n",
    "#                  num_labels):\n",
    "#   \"\"\"Creates a classification model.\"\"\"\n",
    "\n",
    "#   bert_module = hub.Module(\n",
    "#       BERT_MODEL_HUB,\n",
    "#       trainable=True)\n",
    "#   bert_inputs = dict(\n",
    "#       input_ids=input_ids,\n",
    "#       input_mask=input_mask,\n",
    "#       segment_ids=segment_ids)\n",
    "#   bert_outputs = bert_module(\n",
    "#       inputs=bert_inputs,\n",
    "#       signature=\"tokens\",\n",
    "#       as_dict=True)\n",
    "\n",
    "#   # Use \"pooled_output\" for classification tasks on an entire sentence.\n",
    "#   # Use \"sequence_outputs\" for token-level output.\n",
    "#   output_layer = bert_outputs[\"pooled_output\"]\n",
    "\n",
    "#   hidden_size = output_layer.shape[-1].value\n",
    "\n",
    "#   # Create our own layer to tune for our data.\n",
    "#   output_weights = tf.get_variable(\n",
    "#       \"output_weights\", [num_labels, hidden_size],\n",
    "#       initializer=tf.truncated_normal_initializer(stddev=0.02))\n",
    "\n",
    "#   output_bias = tf.get_variable(\n",
    "#       \"output_bias\", [num_labels], initializer=tf.zeros_initializer())\n",
    "\n",
    "#   with tf.variable_scope(\"loss\"):\n",
    "\n",
    "#     # Dropout helps prevent overfitting\n",
    "#     output_layer = tf.nn.dropout(output_layer, keep_prob=0.9)\n",
    "\n",
    "#     logits = tf.matmul(output_layer, output_weights, transpose_b=True)\n",
    "#     logits = tf.nn.bias_add(logits, output_bias)\n",
    "#     log_probs = tf.nn.log_softmax(logits, axis=-1)\n",
    "\n",
    "#     # Convert labels into one-hot encoding\n",
    "#     one_hot_labels = tf.one_hot(labels, depth=num_labels, dtype=tf.float32)\n",
    "\n",
    "#     predicted_labels = tf.squeeze(tf.argmax(log_probs, axis=-1, output_type=tf.int32))\n",
    "#     # If we're predicting, we want predicted labels and the probabiltiies.\n",
    "#     if is_predicting:\n",
    "#       return (predicted_labels, log_probs)\n",
    "\n",
    "#     # If we're train/eval, compute loss between predicted and actual label\n",
    "#     per_example_loss = -tf.reduce_sum(one_hot_labels * log_probs, axis=-1)\n",
    "#     loss = tf.reduce_mean(per_example_loss)\n",
    "    \n",
    "#     return (loss, predicted_labels, log_probs)"
   ]
  },
  {
   "cell_type": "markdown",
   "metadata": {},
   "source": [
    "Next we'll wrap our model function in a `model_fn_builder` function that adapts our model to work for training, evaluation, and prediction."
   ]
  },
  {
   "cell_type": "code",
   "execution_count": null,
   "metadata": {},
   "outputs": [],
   "source": [
    "# # model_fn_builder actually creates our model function\n",
    "# # using the passed parameters for num_labels, learning_rate, etc.\n",
    "# def model_fn_builder(num_labels, learning_rate, num_train_steps,\n",
    "#                      num_warmup_steps):\n",
    "#   \"\"\"Returns `model_fn` closure for TPUEstimator.\"\"\"\n",
    "#   def model_fn(features, labels, mode, params):  # pylint: disable=unused-argument\n",
    "#     \"\"\"The `model_fn` for TPUEstimator.\"\"\"\n",
    "\n",
    "#     input_ids = features[\"input_ids\"]\n",
    "#     input_mask = features[\"input_mask\"]\n",
    "#     segment_ids = features[\"segment_ids\"]\n",
    "#     label_ids = features[\"label_ids\"]\n",
    "\n",
    "#     is_predicting = (mode == tf.estimator.ModeKeys.PREDICT)\n",
    "    \n",
    "#     # TRAIN and EVAL\n",
    "#     if not is_predicting:\n",
    "\n",
    "#       (loss, predicted_labels, log_probs) = create_model(\n",
    "#         is_predicting, input_ids, input_mask, segment_ids, label_ids, num_labels)\n",
    "\n",
    "#       train_op = bert.optimization.create_optimizer(\n",
    "#           loss, learning_rate, num_train_steps, num_warmup_steps, use_tpu=False)\n",
    "\n",
    "#       # Calculate evaluation metrics. \n",
    "#       def metric_fn(label_ids, predicted_labels):\n",
    "#         accuracy = tf.metrics.accuracy(\n",
    "#             label_ids, \n",
    "#             predicted_labels)\n",
    "#         f1_score = tf.contrib.metrics.f1_score(\n",
    "#             label_ids,\n",
    "#             predicted_labels)\n",
    "#         auc = tf.metrics.auc(\n",
    "#             label_ids,\n",
    "#             predicted_labels)\n",
    "#         recall = tf.metrics.recall(\n",
    "#             label_ids,\n",
    "#             predicted_labels)\n",
    "#         precision = tf.metrics.precision(\n",
    "#             label_ids,\n",
    "#             predicted_labels) \n",
    "#         true_pos = tf.metrics.true_positives(\n",
    "#             label_ids,\n",
    "#             predicted_labels)\n",
    "#         true_neg = tf.metrics.true_negatives(\n",
    "#             label_ids,\n",
    "#             predicted_labels)   \n",
    "#         false_pos = tf.metrics.false_positives(\n",
    "#             label_ids,\n",
    "#             predicted_labels)  \n",
    "#         false_neg = tf.metrics.false_negatives(\n",
    "#             label_ids,\n",
    "#             predicted_labels)\n",
    "#         return {\n",
    "#             \"eval_accuracy\": accuracy,\n",
    "#             \"f1_score\": f1_score,\n",
    "#             \"auc\": auc,\n",
    "#             \"precision\": precision,\n",
    "#             \"recall\": recall,\n",
    "#             \"true_positives\": true_pos,\n",
    "#             \"true_negatives\": true_neg,\n",
    "#             \"false_positives\": false_pos,\n",
    "#             \"false_negatives\": false_neg\n",
    "#         }\n",
    "\n",
    "#       eval_metrics = metric_fn(label_ids, predicted_labels)\n",
    "\n",
    "#       if mode == tf.estimator.ModeKeys.TRAIN:\n",
    "#         return tf.estimator.EstimatorSpec(mode=mode,\n",
    "#           loss=loss,\n",
    "#           train_op=train_op)\n",
    "#       else:\n",
    "#           return tf.estimator.EstimatorSpec(mode=mode,\n",
    "#             loss=loss,\n",
    "#             eval_metric_ops=eval_metrics)\n",
    "#     else:\n",
    "#       (predicted_labels, log_probs) = create_model(\n",
    "#         is_predicting, input_ids, input_mask, segment_ids, label_ids, num_labels)\n",
    "\n",
    "#       predictions = {\n",
    "#           'probabilities': log_probs,\n",
    "#           'labels': predicted_labels\n",
    "#       }\n",
    "#       return tf.estimator.EstimatorSpec(mode, predictions=predictions)\n",
    "\n",
    "#   # Return the actual model function in the closure\n",
    "#   return model_fn"
   ]
  },
  {
   "cell_type": "code",
   "execution_count": null,
   "metadata": {},
   "outputs": [],
   "source": [
    "# # Compute train and warmup steps from batch size\n",
    "# # These hyperparameters are copied from this colab notebook (https://colab.sandbox.google.com/github/tensorflow/tpu/blob/master/tools/colab/bert_finetuning_with_cloud_tpus.ipynb)\n",
    "# BATCH_SIZE = 32\n",
    "# LEARNING_RATE = 2e-5\n",
    "# NUM_TRAIN_EPOCHS = 10.\n",
    "# # Warmup is a period of time where the learning rate \n",
    "# # is small and gradually increases--usually helps training.\n",
    "# WARMUP_PROPORTION = 0.1\n",
    "# # Model configs\n",
    "# SAVE_CHECKPOINTS_STEPS = 500\n",
    "# SAVE_SUMMARY_STEPS = 100"
   ]
  },
  {
   "cell_type": "code",
   "execution_count": null,
   "metadata": {},
   "outputs": [],
   "source": [
    "# # Compute # train and warmup steps from batch size\n",
    "# num_train_steps = int(len(train_features) / BATCH_SIZE * NUM_TRAIN_EPOCHS)\n",
    "# num_warmup_steps = int(num_train_steps * WARMUP_PROPORTION)"
   ]
  },
  {
   "cell_type": "code",
   "execution_count": null,
   "metadata": {},
   "outputs": [],
   "source": [
    "# # Specify output directory and number of checkpoint steps to save\n",
    "# run_config = tf.estimator.RunConfig(\n",
    "# #     model_dir=OUTPUT_DIR,\n",
    "#     save_summary_steps=SAVE_SUMMARY_STEPS,\n",
    "#     save_checkpoints_steps=SAVE_CHECKPOINTS_STEPS)"
   ]
  },
  {
   "cell_type": "code",
   "execution_count": null,
   "metadata": {},
   "outputs": [],
   "source": [
    "# model_fn = model_fn_builder(\n",
    "#   num_labels=len(label_list),\n",
    "#   learning_rate=LEARNING_RATE,\n",
    "#   num_train_steps=num_train_steps,\n",
    "#   num_warmup_steps=num_warmup_steps)\n",
    "\n",
    "# estimator = tf.estimator.Estimator(\n",
    "#   model_fn=model_fn,\n",
    "#   config=run_config,\n",
    "#   params={\"batch_size\": BATCH_SIZE})"
   ]
  },
  {
   "cell_type": "markdown",
   "metadata": {},
   "source": [
    "Next we create an input builder function that takes our training feature set (`train_features`) and produces a generator. This is a pretty standard design pattern for working with Tensorflow [Estimators](https://www.tensorflow.org/guide/estimators)."
   ]
  },
  {
   "cell_type": "code",
   "execution_count": null,
   "metadata": {},
   "outputs": [],
   "source": [
    "# # Create an input function for training. drop_remainder = True for using TPUs.\n",
    "# train_input_fn = bert.run_classifier.input_fn_builder(\n",
    "#     features=train_features,\n",
    "#     seq_length=MAX_SEQ_LENGTH,\n",
    "#     is_training=True,\n",
    "#     drop_remainder=False)"
   ]
  },
  {
   "cell_type": "markdown",
   "metadata": {},
   "source": [
    "### Train model"
   ]
  },
  {
   "cell_type": "code",
   "execution_count": null,
   "metadata": {},
   "outputs": [],
   "source": [
    "# print(f'Beginning Training!')\n",
    "# current_time = datetime.now()\n",
    "# estimator.train(input_fn=train_input_fn, max_steps=num_train_steps)\n",
    "# print(\"Training took time \", datetime.now() - current_time)"
   ]
  },
  {
   "cell_type": "markdown",
   "metadata": {},
   "source": [
    "### Test model"
   ]
  },
  {
   "cell_type": "markdown",
   "metadata": {},
   "source": [
    "This result will be similar to the streamlined approach, but not identical because we didn't set a seed for the randomization."
   ]
  },
  {
   "cell_type": "code",
   "execution_count": null,
   "metadata": {},
   "outputs": [],
   "source": [
    "# test_input_fn = run_classifier.input_fn_builder(\n",
    "#     features=test_features,\n",
    "#     seq_length=MAX_SEQ_LENGTH,\n",
    "#     is_training=False,\n",
    "#     drop_remainder=False)"
   ]
  },
  {
   "cell_type": "code",
   "execution_count": null,
   "metadata": {},
   "outputs": [],
   "source": [
    "# bert_2 = estimator.evaluate(input_fn=test_input_fn, steps=None)\n",
    "# bert_2"
   ]
  },
  {
   "cell_type": "markdown",
   "metadata": {},
   "source": [
    "### Predict"
   ]
  },
  {
   "cell_type": "code",
   "execution_count": null,
   "metadata": {},
   "outputs": [],
   "source": [
    "# def getPrediction(in_sentences):\n",
    "#   labels = ['Exclude', 'Include']\n",
    "#   input_examples = [run_classifier.InputExample(\n",
    "#       guid='', text_a = x, text_b = None, label = 0) for x in in_sentences] # here, \"\" is just a dummy label\n",
    "#   input_features = run_classifier.convert_examples_to_features(\n",
    "#       input_examples, label_list, MAX_SEQ_LENGTH, tokenizer)\n",
    "#   predict_input_fn = run_classifier.input_fn_builder(\n",
    "#       features=input_features, seq_length=MAX_SEQ_LENGTH, is_training=False, drop_remainder=False)\n",
    "#   predictions = estimator.predict(predict_input_fn)\n",
    "#   return [(sentence, prediction['probabilities'], labels[prediction['labels']]) for sentence, prediction in zip(in_sentences, predictions)]"
   ]
  },
  {
   "cell_type": "code",
   "execution_count": null,
   "metadata": {},
   "outputs": [],
   "source": [
    "# pred_sentences = [\n",
    "# \"Emerging trends of a changing and increasingly variable climate have introduced new livelihood challenges in rain-fed smallholder agricultural systems that predominate in Sub-Saharan Africa (SSA). The capacity of local farming communities and their institutions to respond to the new and emerging impacts of climate change is often constrained by lack of access to information and improved technologies, as well as poor support mechanisms to promote assimilation of new knowledge. This threatens to heighten vulnerability of the majority of SSA's rural communities who are already facing severe problems of food insecurity and a declining soil resource base. In this paper we use two case studies from Wenchi district in Ghana and Makoni in Zimbabwe to communicate how participatory action research (PAR) methodology, characterised by iterative planning-action-reflection cycles, was coupled with a new concept of field-based farmer learning centres to build adaptive capacity of smallholder farmers to climate change. The study was part of a University of Zimbabwe-led project supported under the Climate Change Adaptation in Africa (CCAA) programme to explore the state of resilience in African smallholder farming. The PAR and learning centre processes enabled communities, local leaders, and extension agents and researchers to establish the, hither to, imperceptible link between poor soil fertility and rising institutional challenges within communities. Institutional conflicts related to land tenure and sharecropping arrangements between migrant farmers and native landowners were addressed in Ghana, while local institutions supporting traditional social safety net mechanisms were revitalized in Zimbabwe. In both cases, it was apparent that farmers faced multiple stresses, at the core of which were poor and declining soil fertility and weakening local institutions. The worsening rainfall distribution and increasing cases of drought are broadening the scope for vulnerability, often driving competing claims and conflicts. PAR was successfully used as an entry point, empowering communities to self-mobilize and self-organize to co-learn and experiment with integrated soil fertility management (ISFM) technologies and other improved farming practices. They realised opportunities for achieving high crop yields and generate surpluses in good years. Strengthening local institutional capacity to revitalise community safety nets proved an essential ingredient for enhancing adaptive capacity of smallholders to climatic shocks. The PAR process was a major driver of effective partnerships among community members, extension, policy makers and researchers, but ensuing success generated a new set of social challenges that could not be addressed within the short timescale of the project. We conclude that PAR was a suitable mechanism for supporting self-organization and co-learning processes among smallholder farmers and their service providers, enabling them to use ISFM technologies and strengthen their local institutions around natural resource management. This revealed the scope for building adaptive capacity of these communities against climate change and variability.\",\n",
    "# \"Farmers in Southern Africa are already experiencing changes to their climate that are different in magnitude to what they have experienced in the past. Some of these changes, particularly higher temperatures and greater rainfall intensity, are consistent with what scientists expect to happen as the Earth's climate warms due to emissions of carbon dioxide and other greenhouse gases. These changes are adding to other political, economic and environmental stresses on their livelihoods. This report comprises new field research by Oxfam and Kulima Integrated Development Solutions with over 200 farmers in five countries of Southern Africa. It finds considerable agreement between farmers across countries that they are observing changes in climate. The perceptions of farmers largely find backing in the meteorological data. Ongoing climate change, bringing increasing temperatures and further changes to precipitation patterns, is projected to make food production more difficult. Recent scientific research compiling the results of many thousands of field tests on maize, in particular, demonstrate the serious effects of temperature increases and changes in moisture (Lobell et al, 2011a). Climate change is likely to reduce yields and increase food prices, with serious effects on both farmers and consumers. Farmers are already actively experimenting and changing agricultural practices and pursuing ways to diversify livelihoods in light of both the new changes to their climate and other multiple stresses. In some cases, these changes can be considered actual or potential successes in adapting to climate change; in other cases they may be simply coping, and other strategies can be considered maladaptation, particularly where they create environmental degradation. Furthermore, whereas large-scale farmers, in the main, have access to the resources needed to adapt, small-scale farmers face major obstacles. These obstacles may not only prevent adaptation but also lead farmers into maladaptation, for want of other choices. Major new resources must be raised from domestic, regional and international levels to focus on and build the adaptive capacity of small-scale farmers and sustain levels of food production into the future.\",\n",
    "# \"In marginal areas, including saline lands, patchy plant stands often result from poor and uneven germination of the crop. The technique of 'on-farm' seed priming, where the seed is soaked in water, usually overnight, before being surface dried and then sown, has been shown to improve plant stands and provide benefits in terms of earlier maturity, reduced disease and increased yields in a range of crops in rainfed areas in Africa, India, Nepal and Bangladesh, as well as in irrigated crops grown on normal soils in India. This paper describes trials to assess the technique for maize, wheat and chickpea grown in saline lands in the North West Frontier Province of Pakistan, using a mixture of on-farm and farmer-participatory trials. Initial studies on germination carried out in laboratory conditions are also reported. In almost all the trials, priming had a significant positive effect on yields: the only trials in which it was not successful were those on dense saline-sodic soils, and possible reasons for this are discussed. Feedback from the farmers indicated that they had very favourable impressions of the technique.\",\n",
    "# \"This chapter focuses on the N contribution by promiscuous soyabean in an attempt to develop sustainable cropping systems in the moist savanna in West Africa. There is, however, a dearth of reliable estimates of N fixation by these promiscuous soyabean and hardly any quantitative information is available on their residual N benefits to subsequent cereal crops grown in the southern Guinea savanna (SGS) zone. The actual amount of N fixed by promiscuous soyabean varied between 38 and 126 kg N ha. Assuming that only seed of soyabean are removed from the plots, it is estimated that the net N accrual to soil ranges between -8 kg N ha and +47 kg N ha depending on the soyabean lines. Residual soyabean N values between 10 and 24 kg N ha representing 14 to 36% of the maize total N were obtained in maize grown after soyabean. Although traditionally the increases in cereal yield following legume cultivation are attributed to greater N accumulation, our data show that the relative increase in maize N following soyabean was smaller than the relative increase in dry matter yield. Hence, the increased yields of maize following soyabean were not due entirely to the carry-over of N from the soyabean residue and to the soil N-conserving effect but were also due to other effects called rotational effects. From the preceding quantitative considerations, it is clear that the biological nitrogen fixation (BNF) benefit of grain legumes to non-legumes due to their inclusion in a cropping system is small indeed compared to the level of N fertilizer use in the more intensive cereal production systems of the developed world but is significant at present in the context of the low input levels in subsistence farming in the tropics.\" \n",
    "# ]"
   ]
  },
  {
   "cell_type": "code",
   "execution_count": null,
   "metadata": {},
   "outputs": [],
   "source": [
    "# predictions = getPrediction(to_predict['abstracts_new'])"
   ]
  },
  {
   "cell_type": "code",
   "execution_count": null,
   "metadata": {},
   "outputs": [],
   "source": [
    "# [print(predictions[i][2]) for i in range(len(predictions))];"
   ]
  },
  {
   "cell_type": "markdown",
   "metadata": {},
   "source": [
    "# Comparing BERT with other text classifications "
   ]
  },
  {
   "cell_type": "markdown",
   "metadata": {},
   "source": [
    "## Prep data for all models"
   ]
  },
  {
   "cell_type": "markdown",
   "metadata": {},
   "source": [
    "The following code is borrowed from this [link](https://towardsdatascience.com/machine-learning-nlp-text-classification-using-scikit-learn-python-and-nltk-c52b92a7c73a).\n",
    "\n",
    "Each algorithm employs a Bag of Words approach."
   ]
  },
  {
   "cell_type": "code",
   "execution_count": null,
   "metadata": {},
   "outputs": [],
   "source": [
    "from sklearn.feature_extraction.text import CountVectorizer"
   ]
  },
  {
   "cell_type": "code",
   "execution_count": null,
   "metadata": {},
   "outputs": [],
   "source": [
    "count_vect = CountVectorizer()\n",
    "X_train_counts = count_vect.fit_transform(train.text)\n",
    "# X_train_counts.shape"
   ]
  },
  {
   "cell_type": "code",
   "execution_count": null,
   "metadata": {},
   "outputs": [],
   "source": [
    "from sklearn.feature_extraction.text import TfidfTransformer\n",
    "tfidf_transformer = TfidfTransformer()\n",
    "X_train_tfidf = tfidf_transformer.fit_transform(X_train_counts)\n",
    "# X_train_tfidf.shape"
   ]
  },
  {
   "cell_type": "markdown",
   "metadata": {},
   "source": [
    "## Naive Bayes"
   ]
  },
  {
   "cell_type": "markdown",
   "metadata": {},
   "source": [
    "Check out [here](https://scikit-learn.org/stable/modules/naive_bayes.html#naive-bayes) for more detail."
   ]
  },
  {
   "cell_type": "code",
   "execution_count": null,
   "metadata": {},
   "outputs": [],
   "source": [
    "from sklearn.naive_bayes import MultinomialNB\n",
    "clf = MultinomialNB().fit(X_train_tfidf, train.sentiment)"
   ]
  },
  {
   "cell_type": "code",
   "execution_count": null,
   "metadata": {},
   "outputs": [],
   "source": [
    "from sklearn.pipeline import Pipeline\n",
    "text_clf = Pipeline([('vect', CountVectorizer()),\n",
    "                     ('tfidf', TfidfTransformer()),\n",
    "                     ('clf', MultinomialNB()),\n",
    "])\n",
    "\n",
    "text_clf = text_clf.fit(train.text, train.sentiment)"
   ]
  },
  {
   "cell_type": "code",
   "execution_count": null,
   "metadata": {},
   "outputs": [],
   "source": [
    "import numpy as np\n",
    "predicted = text_clf.predict(test.text)\n",
    "nb_1 = np.mean(predicted == test.sentiment)\n",
    "nb_1"
   ]
  },
  {
   "cell_type": "markdown",
   "metadata": {},
   "source": [
    "## Support Vector Machines (SVM)"
   ]
  },
  {
   "cell_type": "markdown",
   "metadata": {},
   "source": [
    "Check out [here](https://scikit-learn.org/stable/modules/svm.html) for more detail."
   ]
  },
  {
   "cell_type": "code",
   "execution_count": null,
   "metadata": {},
   "outputs": [],
   "source": [
    "from sklearn.linear_model import SGDClassifier\n",
    "\n",
    "text_clf_svm = Pipeline([('vect', CountVectorizer()),\n",
    "                         ('tfidf', TfidfTransformer()),\n",
    "                         ('clf-svm', SGDClassifier(loss='hinge', penalty='l2',\n",
    "                                                   alpha=1e-3, random_state=42)),\n",
    "])\n",
    "\n",
    "_ = text_clf_svm.fit(train.text, train.sentiment)\n",
    "\n",
    "predicted_svm = text_clf_svm.predict(test.text)\n",
    "svm_1 = np.mean(predicted_svm == test.sentiment) \n",
    "svm_1"
   ]
  },
  {
   "cell_type": "markdown",
   "metadata": {},
   "source": [
    "## Grid Search"
   ]
  },
  {
   "cell_type": "markdown",
   "metadata": {},
   "source": [
    "Check out [here](https://scikit-learn.org/stable/modules/grid_search.html#grid-search) for more detail."
   ]
  },
  {
   "cell_type": "markdown",
   "metadata": {},
   "source": [
    "### Grid search with Naive Bayes"
   ]
  },
  {
   "cell_type": "code",
   "execution_count": null,
   "metadata": {},
   "outputs": [],
   "source": [
    "from sklearn.model_selection import GridSearchCV\n",
    "\n",
    "parameters = {'vect__ngram_range': [(1, 1), (1, 2)],\n",
    "              'tfidf__use_idf': (True, False),\n",
    "              'clf__alpha': (1e-2, 1e-3),\n",
    "}\n",
    "\n",
    "gs_clf = GridSearchCV(text_clf, parameters, n_jobs=-1)\n",
    "gs_clf = gs_clf.fit(train.text, train.sentiment)\n",
    "\n",
    "nb_gs = gs_clf.best_score_\n",
    "# gs_clf.best_params_\n",
    "nb_gs"
   ]
  },
  {
   "cell_type": "markdown",
   "metadata": {},
   "source": [
    "### Grid search with SVM"
   ]
  },
  {
   "cell_type": "code",
   "execution_count": null,
   "metadata": {},
   "outputs": [],
   "source": [
    "parameters_svm = {'vect__ngram_range': [(1, 1), (1, 2)],\n",
    "                  'tfidf__use_idf': (True, False),\n",
    "                  'clf-svm__alpha': (1e-2, 1e-3),\n",
    "}\n",
    "gs_clf_svm = GridSearchCV(text_clf_svm, parameters_svm, n_jobs=-1)\n",
    "gs_clf_svm = gs_clf_svm.fit(train.text, train.sentiment)\n",
    "\n",
    "svm_gs = gs_clf_svm.best_score_\n",
    "# gs_clf_svm.best_params_\n",
    "svm_gs"
   ]
  },
  {
   "cell_type": "markdown",
   "metadata": {},
   "source": [
    "## Further Tuning"
   ]
  },
  {
   "cell_type": "markdown",
   "metadata": {},
   "source": [
    "### Remove stop words"
   ]
  },
  {
   "cell_type": "markdown",
   "metadata": {},
   "source": [
    "Stop words, such as \"the, then, etc.\" "
   ]
  },
  {
   "cell_type": "markdown",
   "metadata": {},
   "source": [
    "#### Naive Bayes"
   ]
  },
  {
   "cell_type": "code",
   "execution_count": null,
   "metadata": {},
   "outputs": [],
   "source": [
    "text_clf = Pipeline([('vect', CountVectorizer(stop_words='english')),\n",
    "                     ('tfidf', TfidfTransformer()),\n",
    "                     ('clf', MultinomialNB()),\n",
    "])\n",
    "\n",
    "parameters = {'vect__ngram_range': [(1, 1), (1, 2)],\n",
    "              'tfidf__use_idf': (True, False),\n",
    "              'clf__alpha': (1e-2, 1e-3),\n",
    "}\n",
    "\n",
    "gs_clf = GridSearchCV(text_clf, parameters, n_jobs=-1)\n",
    "gs_clf = gs_clf.fit(train.text, train.sentiment)\n",
    "\n",
    "nb_gs_rs = gs_clf.best_score_\n",
    "# gs_clf.best_params_\n",
    "nb_gs_rs"
   ]
  },
  {
   "cell_type": "markdown",
   "metadata": {},
   "source": [
    "#### SVM"
   ]
  },
  {
   "cell_type": "code",
   "execution_count": null,
   "metadata": {},
   "outputs": [],
   "source": [
    "text_clf_svm = Pipeline([('vect', CountVectorizer(stop_words='english')),\n",
    "                         ('tfidf', TfidfTransformer()),\n",
    "                         ('clf-svm', SGDClassifier(loss='hinge', penalty='l2',\n",
    "                                                   alpha=1e-3,random_state=42)),\n",
    "])\n",
    "\n",
    "parameters_svm = {'vect__ngram_range': [(1, 1), (1, 2)],\n",
    "                  'tfidf__use_idf': (True, False),\n",
    "                  'clf-svm__alpha': (1e-2, 1e-3),\n",
    "}\n",
    "\n",
    "gs_clf_svm = GridSearchCV(text_clf_svm, parameters_svm, n_jobs=-1)\n",
    "gs_clf_svm = gs_clf_svm.fit(train.text, train.sentiment)\n",
    "\n",
    "svm_gs_rs = gs_clf_svm.best_score_\n",
    "# gs_clf_svm.best_params_\n",
    "svm_gs_rs"
   ]
  },
  {
   "cell_type": "markdown",
   "metadata": {},
   "source": [
    "### Stemming"
   ]
  },
  {
   "cell_type": "markdown",
   "metadata": {},
   "source": [
    "Stemming extracts the root word, such as changing fishing to fish. The stemmer we're using works well for English, but might throw us off for non-English. In further tuning, we should separate the non-English studies (which are few in our case)."
   ]
  },
  {
   "cell_type": "code",
   "execution_count": null,
   "metadata": {},
   "outputs": [],
   "source": [
    "import nltk\n",
    "\n",
    "# if you're running this for the first time, you need to download some files:\n",
    "# nltk.download()\n",
    "\n",
    "from nltk.stem.snowball import SnowballStemmer\n",
    "stemmer = SnowballStemmer('english', ignore_stopwords=True)\n",
    "\n",
    "class StemmedCountVectorizer(CountVectorizer):\n",
    "    def build_analyzer(self):\n",
    "        analyzer = super(StemmedCountVectorizer, self).build_analyzer()\n",
    "        return lambda doc: ([stemmer.stem(w) for w in analyzer(doc)])"
   ]
  },
  {
   "cell_type": "markdown",
   "metadata": {},
   "source": [
    "#### Naive Bayes"
   ]
  },
  {
   "cell_type": "code",
   "execution_count": null,
   "metadata": {},
   "outputs": [],
   "source": [
    "text_clf = Pipeline([('vect', StemmedCountVectorizer(stop_words='english')),\n",
    "                     ('tfidf', TfidfTransformer()),\n",
    "                     ('clf', MultinomialNB()),\n",
    "])\n",
    "\n",
    "parameters = {'vect__ngram_range': [(1, 1), (1, 2)],\n",
    "              'tfidf__use_idf': (True, False),\n",
    "              'clf__alpha': (1e-2, 1e-3),\n",
    "}\n",
    "\n",
    "gs_clf = GridSearchCV(text_clf, parameters, n_jobs=-1)\n",
    "gs_clf = gs_clf.fit(train.text, train.sentiment)\n",
    "\n",
    "nb_gs_stem = gs_clf.best_score_\n",
    "# gs_clf.best_params_\n",
    "nb_gs_stem"
   ]
  },
  {
   "cell_type": "markdown",
   "metadata": {},
   "source": [
    "#### SVM"
   ]
  },
  {
   "cell_type": "code",
   "execution_count": null,
   "metadata": {},
   "outputs": [],
   "source": [
    "text_clf_svm = Pipeline([('vect', StemmedCountVectorizer(stop_words='english')),\n",
    "                         ('tfidf', TfidfTransformer()),\n",
    "                         ('clf-svm', SGDClassifier(loss='hinge', penalty='l2',\n",
    "                                                   alpha=1e-3,random_state=42)),\n",
    "])\n",
    "\n",
    "parameters_svm = {'vect__ngram_range': [(1, 1), (1, 2)],\n",
    "                  'tfidf__use_idf': (True, False),\n",
    "                  'clf-svm__alpha': (1e-2, 1e-3),\n",
    "}\n",
    "\n",
    "gs_clf_svm = GridSearchCV(text_clf_svm, parameters_svm, n_jobs=-1)\n",
    "gs_clf_svm = gs_clf_svm.fit(train.text, train.sentiment)\n",
    "\n",
    "svm_gs_stem = gs_clf_svm.best_score_\n",
    "# gs_clf_svm.best_params_\n",
    "svm_gs_stem"
   ]
  },
  {
   "cell_type": "markdown",
   "metadata": {},
   "source": [
    "# Compare All Models"
   ]
  },
  {
   "cell_type": "code",
   "execution_count": null,
   "metadata": {},
   "outputs": [],
   "source": [
    "from matplotlib import pyplot as plt\n",
    "import seaborn as sns\n",
    "%matplotlib inline"
   ]
  },
  {
   "cell_type": "code",
   "execution_count": null,
   "metadata": {},
   "outputs": [],
   "source": [
    "df = {\n",
    "    'BERT': bert_1['eval_accuracy'],\n",
    "    'Naive Bayes': nb_1,\n",
    "    'SVM': svm_1,\n",
    "    'Naive Bayes - Grid Search': nb_gs,\n",
    "    'SVM Grid Search': svm_gs,\n",
    "    'Naive Bayes - No Stop Words': nb_gs_rs,\n",
    "    'SVM - No Stop Words': svm_gs_rs,\n",
    "    'Naive Bayes - Stemming': nb_gs_stem,\n",
    "    'SVM - Stemming': svm_gs_stem,\n",
    "    'Inter-Rater (Humans agreeing with Humans)': .8\n",
    "}\n",
    "\n",
    "df = pd.DataFrame(df.keys(), df.values()).reset_index()\n",
    "df.columns = ['value', 'metric']\n",
    "df = df.sort_values('value').reset_index()\n",
    "df['value'] = df['value'] * 100"
   ]
  },
  {
   "cell_type": "code",
   "execution_count": null,
   "metadata": {},
   "outputs": [],
   "source": [
    "fig, ax = plt.subplots()\n",
    "sns.barplot(x='value', y='metric', data=df, color='orange', ax=ax)\n",
    "ax.set_xlim(75, 100)\n",
    "ax.set_xlabel('\\nAccuracy (%)')\n",
    "ax.set_ylabel('')\n",
    "ax.spines['right'].set_visible(False)\n",
    "ax.spines['top'].set_visible(False)\n",
    "ax.yaxis.set_ticks_position('left')\n",
    "ax.xaxis.set_ticks_position('bottom')\n",
    "\n",
    "plt.plot()\n",
    "plt.tight_layout()\n",
    "plt.savefig('compare_model.png')"
   ]
  },
  {
   "cell_type": "code",
   "execution_count": null,
   "metadata": {},
   "outputs": [],
   "source": []
  }
 ],
 "metadata": {
  "accelerator": "GPU",
  "colab": {
   "collapsed_sections": [],
   "name": "bert_text_classification.ipynb",
   "provenance": [],
   "version": "0.3.2"
  },
  "kernelspec": {
   "display_name": "ceres_36",
   "language": "python",
   "name": "ceres_36"
  },
  "language_info": {
   "codemirror_mode": {
    "name": "ipython",
    "version": 3
   },
   "file_extension": ".py",
   "mimetype": "text/x-python",
   "name": "python",
   "nbconvert_exporter": "python",
   "pygments_lexer": "ipython3",
   "version": "3.6.7"
  },
  "toc": {
   "nav_menu": {},
   "number_sections": true,
   "sideBar": true,
   "skip_h1_title": false,
   "toc_cell": false,
   "toc_position": {},
   "toc_section_display": "block",
   "toc_window_display": false
  }
 },
 "nbformat": 4,
 "nbformat_minor": 1
}
